{
 "cells": [
  {
   "cell_type": "markdown",
   "metadata": {},
   "source": [
    "# Create smooth elevation contours"
   ]
  },
  {
   "cell_type": "markdown",
   "metadata": {},
   "source": [
    "![Contours for import to Mapbox](graphics/qa_15.jpg)"
   ]
  },
  {
   "cell_type": "code",
   "execution_count": null,
   "metadata": {},
   "outputs": [],
   "source": [
    "################ DO NOT EDIT ################ \n",
    "# \n",
    "# Import ArcGIS package\n",
    "import arcpy\n",
    "# Subprocess allows us to issue commands on the command line\n",
    "import subprocess\n",
    "# Zip utlity to extract files\n",
    "from zipfile import ZipFile\n",
    "# zip up a directory\n",
    "import shutil"
   ]
  },
  {
   "cell_type": "code",
   "execution_count": null,
   "metadata": {},
   "outputs": [],
   "source": [
    "# Directory for your root GIS folder\n",
    "# Got to use double backslash because of other modules\n",
    "# 💡💡💡\n",
    "out_directory = \"c:\\\\YodasGIS\\\\\"\n",
    "\n",
    "# Project name - creates a folder in project directory\n",
    "# 💡💡💡\n",
    "project = \"contours\"\n",
    "\n",
    "# Output geodatabase and folder names\n",
    "# 💡💡💡\n",
    "out_geodb = \"workspace.gdb\"\n",
    "out_shp = \"shapefiles\"\n",
    "\n",
    "# Layers created from previous module on lidar and 3D mapping, e.g., natural bridge arch\n",
    "# 💡💡💡\n",
    "#  DEM (In geodatabase or as a GeoTIFf)\n",
    "in_dem = \"c:\\\\YodasGIS\\\\natbridge\\\\workspace.gdb\\\\natbridge_dem_5ft\"\n",
    "# Buffer polygon for area of interest\n",
    "aoi = \"c:\\\\YodasGIS\\\\natbridge\\\\workspace.gdb\\\\natbridge_2000ft\"\n",
    "\n",
    "# Output parameters\n",
    "# 💡💡💡\n",
    "# Contour interval\n",
    "contour_interval = 10\n",
    "# Index contour\n",
    "contour_index = 100\n",
    "\n",
    "\n",
    "contour_name = f\"contour_{contour_interval}ft\"\n",
    "print(\"Finished\")"
   ]
  },
  {
   "cell_type": "code",
   "execution_count": null,
   "metadata": {},
   "outputs": [],
   "source": [
    "################ DO NOT EDIT ################ \n",
    "# \n",
    "# Create folders\n",
    "subprocess.run(f'mkdir {out_directory}{project}', shell=True)\n",
    "subprocess.run(f'mkdir {out_directory}{project}\\\\{out_shp}', shell=True)\n",
    "completed = subprocess.run(f'dir {out_directory}', shell=True, stdout=subprocess.PIPE)\n",
    "print(completed.stdout.decode('UTF-8'))\n",
    "\n",
    "print(\"Finished\")"
   ]
  },
  {
   "cell_type": "code",
   "execution_count": null,
   "metadata": {},
   "outputs": [],
   "source": [
    "################ DO NOT EDIT ################ \n",
    "# \n",
    "arcpy.env.overwriteOutput = True"
   ]
  },
  {
   "cell_type": "code",
   "execution_count": null,
   "metadata": {},
   "outputs": [],
   "source": [
    "################ DO NOT EDIT ################ \n",
    "# \n",
    "# Create project geodatabase\n",
    "arcpy.CreateFileGDB_management(f'{out_directory}{project}', out_geodb)\n",
    "\n",
    "print(\"Finished\")"
   ]
  },
  {
   "cell_type": "code",
   "execution_count": null,
   "metadata": {},
   "outputs": [],
   "source": [
    "################ DO NOT EDIT ################ \n",
    "# \n",
    "# Create project default geodatabase\n",
    "out_path = f'{out_directory}{project}\\\\{out_geodb}'\n",
    "arcpy.env.workspace = out_path\n",
    "completed = subprocess.run(f'dir {out_directory}{project}', shell=True, stdout=subprocess.PIPE)\n",
    "print(completed.stdout.decode('UTF-8'))\n",
    "\n",
    "print(\"Finished\")"
   ]
  },
  {
   "cell_type": "code",
   "execution_count": null,
   "metadata": {},
   "outputs": [],
   "source": [
    "################ DO NOT EDIT ################ \n",
    "# \n",
    "neighborhood = arcpy.sa.NbrCircle(3,'CELL')\n",
    "outFocalStat = arcpy.sa.FocalStatistics(in_dem, neighborhood, \"MEAN\")\n",
    "outFocalStat.save(f\"{out_path}\\\\avg_elev_30ft\")\n",
    "arcpy.Contour_3d (f\"{out_path}\\\\avg_elev_30ft\", f\"{out_path}\\\\{contour_name}\", contour_interval)\n",
    "\n",
    "print(\"Finished\")"
   ]
  },
  {
   "cell_type": "code",
   "execution_count": null,
   "metadata": {},
   "outputs": [],
   "source": [
    "################ DO NOT EDIT ################ \n",
    "# \n",
    "# Find index contours and label them in a new field\n",
    "\n",
    "y = contour_index\n",
    "\n",
    "code_block = \"\"\"\n",
    "def is_index_contour(x, y):\n",
    "    if x % y == 0:\n",
    "        return 1\n",
    "    else:\n",
    "        return 0\n",
    "\"\"\"     \n",
    "arcpy.AddField_management (f\"{out_path}\\\\{contour_name}\", \"index\", \"SHORT\")        \n",
    "arcpy.CalculateField_management(f\"{out_path}\\\\{contour_name}\", \"index\", f\"is_index_contour(!CONTOUR!, {y})\", \"PYTHON3\", code_block)\n",
    "\n",
    "print(\"Finished\")"
   ]
  },
  {
   "cell_type": "code",
   "execution_count": null,
   "metadata": {},
   "outputs": [],
   "source": [
    "################ DO NOT EDIT ################ \n",
    "# \n",
    "# Clip contours to area of interest\n",
    "arcpy.Clip_analysis (f\"{out_path}\\\\{contour_name}\", aoi, f'{out_directory}{project}\\\\{out_shp}\\\\{contour_name}_aoi.shp')\n",
    "\n",
    "print(\"Finished\")"
   ]
  },
  {
   "cell_type": "code",
   "execution_count": null,
   "metadata": {},
   "outputs": [],
   "source": [
    "################ DO NOT EDIT ################ \n",
    "# \n",
    "# Create archive of ShapeFile for upload to Mapbox\n",
    "shutil.make_archive(f\"{out_directory}{project}\\\\{contour_name}_aoi\", 'zip', f'{out_directory}{project}\\\\{out_shp}\\\\')\n",
    "\n",
    "print(\"Finished\")"
   ]
  },
  {
   "cell_type": "code",
   "execution_count": null,
   "metadata": {},
   "outputs": [],
   "source": []
  }
 ],
 "metadata": {
  "kernelspec": {
   "display_name": "ArcGISPro",
   "language": "Python",
   "name": "python3"
  },
  "language_info": {
   "file_extension": ".py",
   "name": "python",
   "version": "3"
  }
 },
 "nbformat": 4,
 "nbformat_minor": 2
}